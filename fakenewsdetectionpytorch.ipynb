{
 "cells": [
  {
   "cell_type": "code",
   "execution_count": 1,
   "metadata": {},
   "outputs": [],
   "source": [
    "import numpy as np\n",
    "import pandas as pd"
   ]
  },
  {
   "cell_type": "code",
   "execution_count": 2,
   "metadata": {},
   "outputs": [],
   "source": [
    "import re\n",
    "import nltk\n",
    "from sklearn.feature_extraction.text import CountVectorizer\n"
   ]
  },
  {
   "cell_type": "code",
   "execution_count": 3,
   "metadata": {},
   "outputs": [],
   "source": [
    "import torch\n",
    "import torch.nn\n"
   ]
  },
  {
   "cell_type": "code",
   "execution_count": 4,
   "metadata": {},
   "outputs": [],
   "source": [
    "import matplotlib.pyplot as plt \n",
    "import seaborn as sns"
   ]
  },
  {
   "cell_type": "code",
   "execution_count": 5,
   "metadata": {},
   "outputs": [],
   "source": [
    "from sklearn.model_selection import train_test_split"
   ]
  },
  {
   "cell_type": "code",
   "execution_count": 7,
   "metadata": {},
   "outputs": [],
   "source": [
    "data= pd.read_csv('fake-news/train.csv')"
   ]
  },
  {
   "cell_type": "code",
   "execution_count": 8,
   "metadata": {},
   "outputs": [
    {
     "name": "stdout",
     "output_type": "stream",
     "text": [
      "<class 'pandas.core.frame.DataFrame'>\n",
      "RangeIndex: 20800 entries, 0 to 20799\n",
      "Data columns (total 5 columns):\n",
      " #   Column  Non-Null Count  Dtype \n",
      "---  ------  --------------  ----- \n",
      " 0   id      20800 non-null  int64 \n",
      " 1   title   20242 non-null  object\n",
      " 2   author  18843 non-null  object\n",
      " 3   text    20761 non-null  object\n",
      " 4   label   20800 non-null  int64 \n",
      "dtypes: int64(2), object(3)\n",
      "memory usage: 812.6+ KB\n",
      "None\n"
     ]
    }
   ],
   "source": [
    "print(data.info())"
   ]
  },
  {
   "cell_type": "code",
   "execution_count": 9,
   "metadata": {},
   "outputs": [
    {
     "data": {
      "text/html": [
       "<div>\n",
       "<style scoped>\n",
       "    .dataframe tbody tr th:only-of-type {\n",
       "        vertical-align: middle;\n",
       "    }\n",
       "\n",
       "    .dataframe tbody tr th {\n",
       "        vertical-align: top;\n",
       "    }\n",
       "\n",
       "    .dataframe thead th {\n",
       "        text-align: right;\n",
       "    }\n",
       "</style>\n",
       "<table border=\"1\" class=\"dataframe\">\n",
       "  <thead>\n",
       "    <tr style=\"text-align: right;\">\n",
       "      <th></th>\n",
       "      <th>id</th>\n",
       "      <th>title</th>\n",
       "      <th>author</th>\n",
       "      <th>text</th>\n",
       "      <th>label</th>\n",
       "    </tr>\n",
       "  </thead>\n",
       "  <tbody>\n",
       "    <tr>\n",
       "      <th>19166</th>\n",
       "      <td>19166</td>\n",
       "      <td>Tree Shaped Vertical Farms That Grow 24 Acres ...</td>\n",
       "      <td>Heather Callaghan</td>\n",
       "      <td>By Amanda Froelich This tree-like skyscraper i...</td>\n",
       "      <td>1</td>\n",
       "    </tr>\n",
       "    <tr>\n",
       "      <th>19639</th>\n",
       "      <td>19639</td>\n",
       "      <td>Research validates the defining hallmark of Tr...</td>\n",
       "      <td>Heather Callaghan</td>\n",
       "      <td>By Maharshi University Of Management As the va...</td>\n",
       "      <td>1</td>\n",
       "    </tr>\n",
       "    <tr>\n",
       "      <th>19016</th>\n",
       "      <td>19016</td>\n",
       "      <td>\"Реакция Венгрии на сюжет Киселева это не угро...</td>\n",
       "      <td>NaN</td>\n",
       "      <td>Мир » Европа » Восточная Европа Во вторник МИД...</td>\n",
       "      <td>1</td>\n",
       "    </tr>\n",
       "    <tr>\n",
       "      <th>17291</th>\n",
       "      <td>17291</td>\n",
       "      <td>Interview: Andy Worthington On Final Push To C...</td>\n",
       "      <td>Kevin Gosztola</td>\n",
       "      <td>President Barack Obama has less than 70 days t...</td>\n",
       "      <td>1</td>\n",
       "    </tr>\n",
       "    <tr>\n",
       "      <th>220</th>\n",
       "      <td>220</td>\n",
       "      <td>How Will ‘Brexit’ Vote Go? Monty Python May Of...</td>\n",
       "      <td>Sarah Lyall</td>\n",
       "      <td>LIVERPOOL, England  —   Jackie O’Neill, a    a...</td>\n",
       "      <td>0</td>\n",
       "    </tr>\n",
       "    <tr>\n",
       "      <th>16299</th>\n",
       "      <td>16299</td>\n",
       "      <td>Assange Destroys Hillary Clinton In His Most P...</td>\n",
       "      <td>Whitney Webb</td>\n",
       "      <td>Last week, Julian Assange, Editor-In-Chief of ...</td>\n",
       "      <td>1</td>\n",
       "    </tr>\n",
       "    <tr>\n",
       "      <th>7857</th>\n",
       "      <td>7857</td>\n",
       "      <td>Even Massive Influx in Immigrants Can’t Offset...</td>\n",
       "      <td>Neil Munro</td>\n",
       "      <td>Major   cities need to import yet more immigra...</td>\n",
       "      <td>0</td>\n",
       "    </tr>\n",
       "    <tr>\n",
       "      <th>13825</th>\n",
       "      <td>13825</td>\n",
       "      <td>Prophet Mohammed will Marry Virgin Mary, Islam...</td>\n",
       "      <td>Ali Waked</td>\n",
       "      <td>A leading Egyptian cleric irked his Christian ...</td>\n",
       "      <td>0</td>\n",
       "    </tr>\n",
       "    <tr>\n",
       "      <th>8067</th>\n",
       "      <td>8067</td>\n",
       "      <td>Gawker Is Said to Be Sold to Univision in a $1...</td>\n",
       "      <td>Sydney Ember</td>\n",
       "      <td>Gawker Media, whose fierce independence afford...</td>\n",
       "      <td>0</td>\n",
       "    </tr>\n",
       "    <tr>\n",
       "      <th>6483</th>\n",
       "      <td>6483</td>\n",
       "      <td>Travel: Conor McGregor’s Guide To New York</td>\n",
       "      <td>Julius Hubris</td>\n",
       "      <td>AHEAD of his much anticipated title fight agai...</td>\n",
       "      <td>1</td>\n",
       "    </tr>\n",
       "  </tbody>\n",
       "</table>\n",
       "</div>"
      ],
      "text/plain": [
       "          id                                              title  \\\n",
       "19166  19166  Tree Shaped Vertical Farms That Grow 24 Acres ...   \n",
       "19639  19639  Research validates the defining hallmark of Tr...   \n",
       "19016  19016  \"Реакция Венгрии на сюжет Киселева это не угро...   \n",
       "17291  17291  Interview: Andy Worthington On Final Push To C...   \n",
       "220      220  How Will ‘Brexit’ Vote Go? Monty Python May Of...   \n",
       "16299  16299  Assange Destroys Hillary Clinton In His Most P...   \n",
       "7857    7857  Even Massive Influx in Immigrants Can’t Offset...   \n",
       "13825  13825  Prophet Mohammed will Marry Virgin Mary, Islam...   \n",
       "8067    8067  Gawker Is Said to Be Sold to Univision in a $1...   \n",
       "6483    6483         Travel: Conor McGregor’s Guide To New York   \n",
       "\n",
       "                  author                                               text  \\\n",
       "19166  Heather Callaghan  By Amanda Froelich This tree-like skyscraper i...   \n",
       "19639  Heather Callaghan  By Maharshi University Of Management As the va...   \n",
       "19016                NaN  Мир » Европа » Восточная Европа Во вторник МИД...   \n",
       "17291     Kevin Gosztola  President Barack Obama has less than 70 days t...   \n",
       "220          Sarah Lyall  LIVERPOOL, England  —   Jackie O’Neill, a    a...   \n",
       "16299       Whitney Webb  Last week, Julian Assange, Editor-In-Chief of ...   \n",
       "7857          Neil Munro  Major   cities need to import yet more immigra...   \n",
       "13825          Ali Waked  A leading Egyptian cleric irked his Christian ...   \n",
       "8067        Sydney Ember  Gawker Media, whose fierce independence afford...   \n",
       "6483       Julius Hubris  AHEAD of his much anticipated title fight agai...   \n",
       "\n",
       "       label  \n",
       "19166      1  \n",
       "19639      1  \n",
       "19016      1  \n",
       "17291      1  \n",
       "220        0  \n",
       "16299      1  \n",
       "7857       0  \n",
       "13825      0  \n",
       "8067       0  \n",
       "6483       1  "
      ]
     },
     "execution_count": 9,
     "metadata": {},
     "output_type": "execute_result"
    }
   ],
   "source": [
    "data = data.sample(frac=1)\n",
    "data.head(10)"
   ]
  },
  {
   "cell_type": "code",
   "execution_count": 11,
   "metadata": {},
   "outputs": [
    {
     "data": {
      "image/png": "[encoded data removed]",
      "text/plain": [
       "<Figure size 640x480 with 1 Axes>"
      ]
     },
     "metadata": {},
     "output_type": "display_data"
    }
   ],
   "source": [
    "\n",
    "\n",
    "label_counts = data[\"label\"].value_counts()\n",
    "plt.bar(label_counts.index, label_counts.values)\n",
    "plt.xlabel(\"Label\")\n",
    "plt.ylabel(\"Count\")\n",
    "plt.title(\"Distribution of Labels\")\n",
    "plt.show()\n"
   ]
  },
  {
   "cell_type": "code",
   "execution_count": 12,
   "metadata": {},
   "outputs": [
    {
     "data": {
      "image/png": "[encoded data removed]",
      "text/plain": [
       "<Figure size 640x480 with 1 Axes>"
      ]
     },
     "metadata": {},
     "output_type": "display_data"
    }
   ],
   "source": [
    "plt.pie(label_counts.values, labels=label_counts.index, autopct='%1.1f%%')\n",
    "plt.title(\"Distribution of Labels\")\n",
    "plt.axis('equal')  # Equal aspect ratio ensures that pie is drawn as a circle\n",
    "plt.show()\n"
   ]
  },
  {
   "cell_type": "code",
   "execution_count": 14,
   "metadata": {},
   "outputs": [
    {
     "data": {
      "text/plain": [
       "'House Dem Aide: We Didn’t Even See Comey’s Letter Until Jason Chaffetz Tweeted It'"
      ]
     },
     "execution_count": 14,
     "metadata": {},
     "output_type": "execute_result"
    }
   ],
   "source": [
    "\n",
    "data['title'][0]"
   ]
  },
  {
   "cell_type": "code",
   "execution_count": null,
   "metadata": {},
   "outputs": [],
   "source": []
  }
 ],
 "metadata": {
  "kernelspec": {
   "display_name": "base",
   "language": "python",
   "name": "python3"
  },
  "language_info": {
   "codemirror_mode": {
    "name": "ipython",
    "version": 3
   },
   "file_extension": ".py",
   "mimetype": "text/x-python",
   "name": "python",
   "nbconvert_exporter": "python",
   "pygments_lexer": "ipython3",
   "version": "3.11.5"
  }
 },
 "nbformat": 4,
 "nbformat_minor": 2
}
